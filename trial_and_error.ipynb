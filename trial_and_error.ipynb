{
 "cells": [
  {
   "cell_type": "markdown",
   "metadata": {},
   "source": [
    "# Norm\n",
    "\n",
    "a Norm is a mapping from a vector space $X$ into $\\mathbb{R}^n$ with the following characteristics:\n",
    "\n",
    "$\\forall \\alpha \\in X$:\n",
    "\n",
    "\\begin{equation}\n",
    "\\|x\\| \\geqslant 0,   (\\|x\\| = 0 \\Leftrightarrow x = 0 )\n",
    "\\end{equation}\n",
    "\n",
    "\\begin{equation}\n",
    "\\|\\alpha x\\| = |\\alpha| \\|x\\|, \\forall \\alpha \\in \\mathbb{R}\n",
    "\\end{equation}\n",
    "\n",
    "\\begin{equation}\n",
    "\\| y + x\\| \\leqslant \\| y\\| + \\|x\\|\n",
    "\\end{equation}\n",
    "\n",
    "# p-Norm\n",
    "\n",
    "p-Norm for a vector $x \\in \\Re^n$ is defined as \n",
    "\\begin{equation}\n",
    "\\|x\\|_{p} := (\\sum_{k=1}^{n} | x_{k} |^p)^{\\frac{1}{p}}, p \\in [1, \\infty)\n",
    "\\end{equation}\n",
    "\n",
    "What happens if $p$ is set to $<1$?"
   ]
  },
  {
   "cell_type": "code",
   "execution_count": 1,
   "metadata": {},
   "outputs": [],
   "source": [
    "\n",
    "\n",
    "def calc_pNorm(x, p):\n",
    "    temp = 0\n",
    "    for x_k in x:\n",
    "        temp = temp + (abs(x_k)**p)\n",
    "    return temp**(1./p)\n",
    "\n",
    "def isGreaterOrEqual(a, b):\n",
    "    return a >= b\n",
    "\n",
    "def check_characteristics(x,y,p):\n",
    "    print(\"#### Input ####\")\n",
    "    print(\"x = \" + str(x))\n",
    "    print(\"y = \" + str(y))\n",
    "    print(\"p = \" + str(p))\n",
    "\n",
    "    x_p_normed = calc_pNorm(x, p)\n",
    "    y_p_normed = calc_pNorm(x, p)\n",
    "    \n",
    "    print(\"#### x p-normed >= 0 ? ####\")\n",
    "    print(isGreaterOrEqual(x_p_normed, 0))\n",
    "    \n",
    "    alpha = 100\n",
    "    x_scaled = []\n",
    "    for x_k in x:\n",
    "        x_scaled.append(x_k * alpha)\n",
    "    x_scaled_p_normed = calc_pNorm(x_scaled, p)\n",
    "    x_p_normed_scaled = abs(alpha) * x_p_normed\n",
    "    print(\"#### check x scaled by \" + str(alpha) + \" ####\")\n",
    "    print(\"p-normed(alpha * x):\" + str(x_scaled_p_normed))\n",
    "    print(\"abs(alpha) * p-normed(x):\" + str(x_p_normed_scaled))\n",
    "    print(\"#### p-normed(alpha * x) == abs(alpha) * p-normed(x)? ####\")\n",
    "    print(x_scaled_p_normed == x_p_normed_scaled)\n",
    "    \n",
    "    \n",
    "    x_y = []\n",
    "    for i in range(len(x)):\n",
    "        x_y.append(x[i] + y[i])\n",
    "    x_y_sum_p_normed = calc_pNorm(x_y, p)\n",
    "    x_y_p_normed_sum = x_p_normed + y_p_normed\n",
    "    print(\"#### Add p-normed ####\")   \n",
    "    print(\"x p-normed :\" + str(x_p_normed))\n",
    "    print(\"y p-normed :\" + str(y_p_normed))\n",
    "    print(\"p-normed(x + y) :\" + str(x_y_sum_p_normed))\n",
    "    print(\"p_normed(x) + p_normed(y) :\" + str(x_y_p_normed_sum))\n",
    "    print(\"#### p-normed(x + y) <= p_normed(x) + p_normed(y) ? ####\")\n",
    "    print(x_y_sum_p_normed)\n",
    "    print(x_y_p_normed_sum)\n",
    "    print(x_y_sum_p_normed <= x_y_p_normed_sum)\n",
    "    \n",
    "    return x_y_sum_p_normed, x_y_p_normed_sum\n"
   ]
  },
  {
   "cell_type": "code",
   "execution_count": 13,
   "metadata": {},
   "outputs": [],
   "source": [
    "x = [9]\n",
    "y = [9]"
   ]
  },
  {
   "cell_type": "code",
   "execution_count": 14,
   "metadata": {},
   "outputs": [
    {
     "data": {
      "text/plain": [
       "9.0"
      ]
     },
     "execution_count": 14,
     "metadata": {},
     "output_type": "execute_result"
    }
   ],
   "source": [
    "# applying 2-norm to x\n",
    "\n",
    "calc_pNorm(x, 2.0)"
   ]
  },
  {
   "cell_type": "code",
   "execution_count": 15,
   "metadata": {},
   "outputs": [
    {
     "name": "stdout",
     "output_type": "stream",
     "text": [
      "#### Input ####\n",
      "x = [9]\n",
      "y = [9]\n",
      "p = 2.0\n",
      "#### x p-normed >= 0 ? ####\n",
      "True\n",
      "#### check x scaled by 100 ####\n",
      "p-normed(alpha * x):900.0\n",
      "abs(alpha) * p-normed(x):900.0\n",
      "#### p-normed(alpha * x) == abs(alpha) * p-normed(x)? ####\n",
      "True\n",
      "#### Add p-normed ####\n",
      "x p-normed :9.0\n",
      "y p-normed :9.0\n",
      "p-normed(x + y) :18.0\n",
      "p_normed(x) + p_normed(y) :18.0\n",
      "#### p-normed(x + y) <= p_normed(x) + p_normed(y) ? ####\n",
      "18.0\n",
      "18.0\n",
      "True\n"
     ]
    },
    {
     "data": {
      "text/plain": [
       "(18.0, 18.0)"
      ]
     },
     "execution_count": 15,
     "metadata": {},
     "output_type": "execute_result"
    }
   ],
   "source": [
    "check_characteristics(x,y,2.0)"
   ]
  },
  {
   "cell_type": "code",
   "execution_count": 21,
   "metadata": {},
   "outputs": [
    {
     "name": "stdout",
     "output_type": "stream",
     "text": [
      "#### Input ####\n",
      "x = [9]\n",
      "y = [9]\n",
      "p = 0.666666666667\n",
      "#### x p-normed >= 0 ? ####\n",
      "True\n",
      "#### check x scaled by 100 ####\n",
      "p-normed(alpha * x):900.0\n",
      "abs(alpha) * p-normed(x):900.0\n",
      "#### p-normed(alpha * x) == abs(alpha) * p-normed(x)? ####\n",
      "False\n",
      "#### Add p-normed ####\n",
      "x p-normed :9.0\n",
      "y p-normed :9.0\n",
      "p-normed(x + y) :18.0\n",
      "p_normed(x) + p_normed(y) :18.0\n",
      "#### p-normed(x + y) <= p_normed(x) + p_normed(y) ? ####\n",
      "18.0\n",
      "18.0\n",
      "False\n"
     ]
    },
    {
     "data": {
      "text/plain": [
       "(18.0, 17.999999999999996)"
      ]
     },
     "execution_count": 21,
     "metadata": {},
     "output_type": "execute_result"
    }
   ],
   "source": [
    "check_characteristics(x,y,2.0/3.0)"
   ]
  },
  {
   "cell_type": "code",
   "execution_count": 22,
   "metadata": {},
   "outputs": [
    {
     "data": {
      "text/plain": [
       "8.999999999999998"
      ]
     },
     "execution_count": 22,
     "metadata": {},
     "output_type": "execute_result"
    }
   ],
   "source": [
    "calc_pNorm(x,0.6666)"
   ]
  },
  {
   "cell_type": "code",
   "execution_count": 32,
   "metadata": {},
   "outputs": [
    {
     "name": "stdout",
     "output_type": "stream",
     "text": [
      "0.0\n",
      "1.41421356237\n",
      "2.82842712475\n",
      "4.24264068712\n",
      "5.65685424949\n",
      "140.007142675\n"
     ]
    }
   ],
   "source": [
    "def calc_sphere(x,a,p):\n",
    "    temp = []\n",
    "    for i in range(len(x)):\n",
    "        temp.append(x[i] - a[i])\n",
    "    return calc_pNorm(temp,p)\n",
    "\n",
    "container = [[1,1],[2,2], [3,3], [4,4], [5,5], [100,100]]\n",
    "for x in container:\n",
    "    print(calc_sphere(x,[1,1],2))\n",
    "    "
   ]
  },
  {
   "cell_type": "code",
   "execution_count": null,
   "metadata": {},
   "outputs": [],
   "source": []
  },
  {
   "cell_type": "code",
   "execution_count": null,
   "metadata": {},
   "outputs": [],
   "source": []
  }
 ],
 "metadata": {
  "kernelspec": {
   "display_name": "Python 2",
   "language": "python",
   "name": "python2"
  },
  "language_info": {
   "codemirror_mode": {
    "name": "ipython",
    "version": 2
   },
   "file_extension": ".py",
   "mimetype": "text/x-python",
   "name": "python",
   "nbconvert_exporter": "python",
   "pygments_lexer": "ipython2",
   "version": "2.7.12"
  }
 },
 "nbformat": 4,
 "nbformat_minor": 2
}

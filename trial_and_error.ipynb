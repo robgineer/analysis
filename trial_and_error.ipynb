{
 "cells": [
  {
   "cell_type": "markdown",
   "metadata": {},
   "source": [
    "# Norm\n",
    "\n",
    "a Norm is a mapping from a vector space $X$ into $\\mathbb{R}^n$ with the following characteristics:\n",
    "\n",
    "$\\forall \\alpha \\in X$:\n",
    "\n",
    "\\begin{equation}\n",
    "\\|x\\| \\geqslant 0,   (\\|x\\| = 0 \\Leftrightarrow x = 0 )\n",
    "\\end{equation}\n",
    "\n",
    "\\begin{equation}\n",
    "\\|\\alpha x\\| = |\\alpha| \\|x\\|, \\forall \\alpha \\in \\mathbb{R}\n",
    "\\end{equation}\n",
    "\n",
    "\\begin{equation}\n",
    "\\| y + x\\| \\leqslant \\| y\\| + \\|x\\|\n",
    "\\end{equation}\n",
    "\n",
    "# p-Norm\n",
    "\n",
    "p-Norm for a vector $x \\in \\Re^n$ is defined as \n",
    "\\begin{equation}\n",
    "\\|x\\|_{p} := (\\sum_{k=1}^{n} | x_{k} |^p)^{\\frac{1}{p}}, p \\in [1, \\infty)\n",
    "\\end{equation}\n",
    "\n",
    "What happens if $p$ is set to $<1$?"
   ]
  },
  {
   "cell_type": "code",
   "execution_count": 56,
   "metadata": {},
   "outputs": [],
   "source": [
    "### Define basic neccessary vector operations\n",
    "\n",
    "def calc_abs_inner_sum(x):\n",
    "    vector_sum = 0\n",
    "    for i in range(len(x)):\n",
    "        vector_sum = vector_sum + x[i]\n",
    "    return abs(vector_sum)\n",
    "\n",
    "def calc_exp(x,exp):\n",
    "    vector_pow = []\n",
    "    for item in x:\n",
    "        vector_pow.append(abs(item)**(float(exp)))\n",
    "    return vector_pow\n",
    "\n",
    "def isGreaterOrEqual(a, b):\n",
    "    return a >= b\n",
    "\n",
    "def isSmallerOrEqual(a, b):\n",
    "    return a <= b\n",
    "\n",
    "def calc_abs_element_wise_sum(x,y):\n",
    "    if len(x) != len(y):\n",
    "        print(\"ERROR: no. of vector elements differ\")\n",
    "        return 0\n",
    "    element_wise_sum = []\n",
    "    for i in range(len(x)):\n",
    "        element_wise_sum.append(abs(x[i] + y[i]))\n",
    "    return element_wise_sum\n",
    "\n",
    "def calc_scalar_mul(x, alpha):\n",
    "    x_scaled = []\n",
    "    for item in x:\n",
    "        x_scaled.append(alpha*item)\n",
    "    return x_scaled\n",
    "\n",
    "def calc_sub(x,y):\n",
    "    if len(x) != len(y):\n",
    "        print(\"ERROR ABS SUB: no. of vector elements differ\")\n",
    "        return 0\n",
    "    dist = []\n",
    "    for i in range(len(x)):\n",
    "        dist.append((x[i] - y[i]))\n",
    "    return dist\n",
    "\n",
    "from math import sqrt\n",
    "def calc_vec_abs(x):\n",
    "    absolute_value = 0\n",
    "    for item in x:\n",
    "        absolute_value = absolute_value + item**2\n",
    "    return sqrt(absolute_value)\n",
    "\n",
    "### END of basic vector operations\n"
   ]
  },
  {
   "cell_type": "code",
   "execution_count": null,
   "metadata": {},
   "outputs": [],
   "source": [
    "### p-Norm implementation #####\n",
    "\n",
    "def calc_pNorm(x, p):\n",
    "    p_normed = 0\n",
    "    if p == float(1):\n",
    "        p_normed = calc_abs_inner_sum(x)\n",
    "    else:\n",
    "        x_exponential = calc_exp(x,p)\n",
    "        p_normed = calc_abs_inner_sum(x_exponential)\n",
    "    return p_normed\n"
   ]
  },
  {
   "cell_type": "code",
   "execution_count": 32,
   "metadata": {},
   "outputs": [
    {
     "name": "stdout",
     "output_type": "stream",
     "text": [
      "8\n",
      "8\n",
      "8\n",
      "8\n",
      "8\n",
      "8\n",
      "8\n",
      "8\n",
      "8\n",
      "8\n",
      "8\n"
     ]
    }
   ],
   "source": [
    "def calc_p_norm_dist(x,y,p):\n",
    "    temp = calc_sub(x,y)\n",
    "    return calc_pNorm(temp,p)\n",
    "\n",
    "container = [[10,0],[9,1], [8,2], [7,3], [6,4], [5,5], [4,6], [3,7], [2,8], [1,9], [0,10]]\n",
    "a = [1,1]\n",
    "p = 1\n",
    "\n",
    "for x in container:\n",
    "    print(calc_p_norm_dist(x,a,p))"
   ]
  },
  {
   "cell_type": "code",
   "execution_count": null,
   "metadata": {},
   "outputs": [],
   "source": [
    "def check_characteristics(x,y,p):\n",
    "    print(\"#### Input ####\")\n",
    "    print(\"x = \" + str(x))\n",
    "    print(\"y = \" + str(y))\n",
    "    print(\"p = \" + str(p))\n",
    "\n",
    "    x_p_normed = calc_pNorm(x, p)\n",
    "    y_p_normed = calc_pNorm(x, p)\n",
    "    \n",
    "    print(\"#### x p-normed >= 0 ? ####\")\n",
    "    print(isGreaterOrEqual(x_p_normed, 0))\n",
    "    \n",
    "    alpha = 100\n",
    "    x_scaled = calc_scalar_mul(x, alpha)\n",
    "    x_scaled_p_normed = calc_pNorm(x_scaled, p)\n",
    "    x_p_normed_scaled = abs(alpha) * x_p_normed\n",
    "    print(\"#### check x scaled by \" + str(alpha) + \" ####\")\n",
    "    print(\"p-normed(alpha * x):\" + str(x_scaled_p_normed))\n",
    "    print(\"abs(alpha) * p-normed(x):\" + str(x_p_normed_scaled))\n",
    "    print(\"#### p-normed(alpha * x) == abs(alpha) * p-normed(x)? ####\")\n",
    "    print(x_scaled_p_normed == x_p_normed_scaled)\n",
    "    x_y_sum = calc_abs_element_wise_sum(x,y)\n",
    "    x_y_sum_p_normed = calc_pNorm(x_y_sum, p)\n",
    "    x_y_p_normed_sum = x_p_normed + y_p_normed\n",
    "    \n",
    "    print(\"#### Add p-normed ####\")   \n",
    "    print(\"x p-normed :\" + str(x_p_normed))\n",
    "    print(\"y p-normed :\" + str(y_p_normed))\n",
    "    print(\"p-normed(x + y) :\" + str(x_y_sum_p_normed))\n",
    "    print(\"p_normed(x) + p_normed(y) :\" + str(x_y_p_normed_sum))\n",
    "    print(\"#### p-normed(x + y) <= p_normed(x) + p_normed(y) ? ####\")\n",
    "    print(x_y_sum_p_normed)\n",
    "    print(x_y_p_normed_sum)\n",
    "    print(x_y_sum_p_normed <= x_y_p_normed_sum)\n",
    "    \n",
    "    return x_y_sum_p_normed, x_y_p_normed_sum"
   ]
  },
  {
   "cell_type": "code",
   "execution_count": 34,
   "metadata": {},
   "outputs": [
    {
     "name": "stdout",
     "output_type": "stream",
     "text": [
      "#### Input ####\n",
      "x = [1, 1]\n",
      "y = [1, 1]\n",
      "p = 1\n",
      "#### x p-normed >= 0 ? ####\n",
      "True\n",
      "#### check x scaled by 100 ####\n",
      "p-normed(alpha * x):200\n",
      "abs(alpha) * p-normed(x):200\n",
      "#### p-normed(alpha * x) == abs(alpha) * p-normed(x)? ####\n",
      "True\n",
      "#### Add p-normed ####\n",
      "x p-normed :2\n",
      "y p-normed :2\n",
      "p-normed(x + y) :4\n",
      "p_normed(x) + p_normed(y) :4\n",
      "#### p-normed(x + y) <= p_normed(x) + p_normed(y) ? ####\n",
      "4\n",
      "4\n",
      "True\n"
     ]
    },
    {
     "data": {
      "text/plain": [
       "(4, 4)"
      ]
     },
     "execution_count": 34,
     "metadata": {},
     "output_type": "execute_result"
    }
   ],
   "source": [
    "check_characteristics([1,1],[1,1],1)"
   ]
  },
  {
   "cell_type": "code",
   "execution_count": 58,
   "metadata": {},
   "outputs": [
    {
     "name": "stdout",
     "output_type": "stream",
     "text": [
      "x_abs: 0.666666666667\n",
      "y_abs: 1.0\n",
      "epsilon: 1.0\n",
      "x_abs: 0.527046276695\n",
      "y_abs: 0.790569415042\n",
      "epsilon: 0.790569415042\n",
      "x_abs: 0.471404520791\n",
      "y_abs: 0.707106781187\n",
      "epsilon: 0.707106781187\n",
      "x_abs: 0.527046276695\n",
      "y_abs: 0.790569415042\n",
      "epsilon: 0.790569415042\n",
      "x_abs: 0.666666666667\n",
      "y_abs: 1.0\n",
      "epsilon: 1.0\n"
     ]
    }
   ],
   "source": [
    "def weird_norm(x,y):\n",
    "    x_abs = calc_vec_abs(x) / 3.0\n",
    "    y_abs = calc_vec_abs(y) / 2.0\n",
    "    \n",
    "    print(\"x_abs: \" + str(x_abs))\n",
    "    print(\"y_abs: \" + str(y_abs))\n",
    "    print(\"epsilon: \" + str(max(x_abs, y_abs)))\n",
    "\n",
    "#x_container = [[10,0],[9,1], [8,2], [7,3], [6,4], [5,5], [4,6], [3,7], [2,8], [1,9], [0,10]]\n",
    "#y_container = [[10,0],[9,1], [8,2], [7,3], [6,4], [5,5], [4,6], [3,7], [2,8], [1,9], [0,10]]\n",
    "\n",
    "\n",
    "x_container = [[2,0],[1.5,0.5], [1,1], [0.5,1.5], [0,2]]\n",
    "y_container = [[2,0],[1.5,0.5], [1,1], [0.5,1.5], [0,2]]\n",
    "#y_container = [[1,0],[0.9,0.1], [0.8,0.2], [0.7,0.3], [0.6,0.4], [0.5,0.5], [0.4,0.6], [0.3,0.7], [0.2,0.8], [0.1,0.9], [0,1]]\n",
    "\n",
    "for i in range(len(x_container)):\n",
    "    weird_norm(x_container[i], y_container[i])"
   ]
  },
  {
   "cell_type": "code",
   "execution_count": 70,
   "metadata": {},
   "outputs": [
    {
     "name": "stdout",
     "output_type": "stream",
     "text": [
      "2048.0\n",
      "1619.08616201\n",
      "1448.15468787\n",
      "1619.08616201\n",
      "2048.0\n",
      "#### Input ####\n",
      "x = [1.5, 0.5]\n",
      "y = [1.5, 0.5]\n",
      "p = 1\n",
      "#### x p-normed >= 0 ? ####\n",
      "True\n"
     ]
    },
    {
     "ename": "TypeError",
     "evalue": "another_weird_norm() takes exactly 3 arguments (2 given)",
     "output_type": "error",
     "traceback": [
      "\u001b[0;31m---------------------------------------------------------------------------\u001b[0m",
      "\u001b[0;31mTypeError\u001b[0m                                 Traceback (most recent call last)",
      "\u001b[0;32m<ipython-input-70-045e33631e95>\u001b[0m in \u001b[0;36m<module>\u001b[0;34m()\u001b[0m\n\u001b[1;32m     52\u001b[0m     \u001b[0;32mreturn\u001b[0m \u001b[0mx_y_sum_p_normed\u001b[0m\u001b[0;34m,\u001b[0m \u001b[0mx_y_p_normed_sum\u001b[0m\u001b[0;34m\u001b[0m\u001b[0m\n\u001b[1;32m     53\u001b[0m \u001b[0;34m\u001b[0m\u001b[0m\n\u001b[0;32m---> 54\u001b[0;31m \u001b[0mcheck_characteristics2\u001b[0m\u001b[0;34m(\u001b[0m\u001b[0mx_container\u001b[0m\u001b[0;34m[\u001b[0m\u001b[0;36m1\u001b[0m\u001b[0;34m]\u001b[0m\u001b[0;34m,\u001b[0m \u001b[0my_container\u001b[0m\u001b[0;34m[\u001b[0m\u001b[0;36m1\u001b[0m\u001b[0;34m]\u001b[0m\u001b[0;34m,\u001b[0m \u001b[0;36m1\u001b[0m\u001b[0;34m)\u001b[0m\u001b[0;34m\u001b[0m\u001b[0m\n\u001b[0m",
      "\u001b[0;32m<ipython-input-70-045e33631e95>\u001b[0m in \u001b[0;36mcheck_characteristics2\u001b[0;34m(x, y, p)\u001b[0m\n\u001b[1;32m     29\u001b[0m     \u001b[0malpha\u001b[0m \u001b[0;34m=\u001b[0m \u001b[0;36m100\u001b[0m\u001b[0;34m\u001b[0m\u001b[0m\n\u001b[1;32m     30\u001b[0m     \u001b[0mx_scaled\u001b[0m \u001b[0;34m=\u001b[0m \u001b[0mcalc_scalar_mul\u001b[0m\u001b[0;34m(\u001b[0m\u001b[0mx\u001b[0m\u001b[0;34m,\u001b[0m \u001b[0malpha\u001b[0m\u001b[0;34m)\u001b[0m\u001b[0;34m\u001b[0m\u001b[0m\n\u001b[0;32m---> 31\u001b[0;31m     \u001b[0mx_scaled_p_normed\u001b[0m \u001b[0;34m=\u001b[0m \u001b[0manother_weird_norm\u001b[0m\u001b[0;34m(\u001b[0m\u001b[0mx_scaled\u001b[0m\u001b[0;34m,\u001b[0m \u001b[0mp\u001b[0m\u001b[0;34m)\u001b[0m\u001b[0;34m\u001b[0m\u001b[0m\n\u001b[0m\u001b[1;32m     32\u001b[0m     \u001b[0mx_p_normed_scaled\u001b[0m \u001b[0;34m=\u001b[0m \u001b[0mabs\u001b[0m\u001b[0;34m(\u001b[0m\u001b[0malpha\u001b[0m\u001b[0;34m)\u001b[0m \u001b[0;34m*\u001b[0m \u001b[0mx_p_normed\u001b[0m\u001b[0;34m\u001b[0m\u001b[0m\n\u001b[1;32m     33\u001b[0m     \u001b[0;32mprint\u001b[0m\u001b[0;34m(\u001b[0m\u001b[0;34m\"#### check x scaled by \"\u001b[0m \u001b[0;34m+\u001b[0m \u001b[0mstr\u001b[0m\u001b[0;34m(\u001b[0m\u001b[0malpha\u001b[0m\u001b[0;34m)\u001b[0m \u001b[0;34m+\u001b[0m \u001b[0;34m\" ####\"\u001b[0m\u001b[0;34m)\u001b[0m\u001b[0;34m\u001b[0m\u001b[0m\n",
      "\u001b[0;31mTypeError\u001b[0m: another_weird_norm() takes exactly 3 arguments (2 given)"
     ]
    }
   ],
   "source": [
    "def another_weird_norm(x,y,p):\n",
    "    x_abs_exp = calc_vec_abs(x)**p\n",
    "    y_abs_exp = calc_vec_abs(x)**p\n",
    "    return (x_abs_exp + x_abs_exp)**(1./p)\n",
    "\n",
    "\n",
    "    \n",
    "    \n",
    "x_container = [[2,0],[1.5,0.5], [1,1], [0.5,1.5], [0,2]]\n",
    "y_container = [[2,0],[1.5,0.5], [1,1], [0.5,1.5], [0,2]]\n",
    "#y_container = [[1,0],[0.9,0.1], [0.8,0.2], [0.7,0.3], [0.6,0.4], [0.5,0.5], [0.4,0.6], [0.3,0.7], [0.2,0.8], [0.1,0.9], [0,1]]\n",
    "\n",
    "for i in range(len(x_container)):\n",
    "    print(another_weird_norm(x_container[i], y_container[i], 0.1))\n",
    "\n",
    "    \n",
    "def check_characteristics2(x,y,p):\n",
    "    print(\"#### Input ####\")\n",
    "    print(\"x = \" + str(x))\n",
    "    print(\"y = \" + str(y))\n",
    "    print(\"p = \" + str(p))\n",
    "\n",
    "    x_p_normed = another_weird_norm(x,y, p)\n",
    "    y_p_normed = another_weird_norm(x,y, p)\n",
    "    \n",
    "    print(\"#### x p-normed >= 0 ? ####\")\n",
    "    print(isGreaterOrEqual(x_p_normed, 0))\n",
    "    \n",
    "    alpha = 100\n",
    "    x_scaled = calc_scalar_mul(x, alpha)\n",
    "    x_scaled_p_normed = another_weird_norm(x_scaled, p)\n",
    "    x_p_normed_scaled = abs(alpha) * x_p_normed\n",
    "    print(\"#### check x scaled by \" + str(alpha) + \" ####\")\n",
    "    print(\"p-normed(alpha * x):\" + str(x_scaled_p_normed))\n",
    "    print(\"abs(alpha) * p-normed(x):\" + str(x_p_normed_scaled))\n",
    "    print(\"#### p-normed(alpha * x) == abs(alpha) * p-normed(x)? ####\")\n",
    "    print(x_scaled_p_normed == x_p_normed_scaled)\n",
    "    x_y_sum = calc_abs_element_wise_sum(x,y)\n",
    "    x_y_sum_p_normed = another_weird_norm(x_y_sum, p)\n",
    "    x_y_p_normed_sum = x_p_normed + y_p_normed\n",
    "    \n",
    "    print(\"#### Add p-normed ####\")   \n",
    "    print(\"x p-normed :\" + str(x_p_normed))\n",
    "    print(\"y p-normed :\" + str(y_p_normed))\n",
    "    print(\"p-normed(x + y) :\" + str(x_y_sum_p_normed))\n",
    "    print(\"p_normed(x) + p_normed(y) :\" + str(x_y_p_normed_sum))\n",
    "    print(\"#### p-normed(x + y) <= p_normed(x) + p_normed(y) ? ####\")\n",
    "    print(x_y_sum_p_normed)\n",
    "    print(x_y_p_normed_sum)\n",
    "    print(x_y_sum_p_normed <= x_y_p_normed_sum)\n",
    "    \n",
    "    return x_y_sum_p_normed, x_y_p_normed_sum   \n",
    "\n",
    "check_characteristics2(x_container[1], y_container[1], 1)"
   ]
  },
  {
   "cell_type": "code",
   "execution_count": null,
   "metadata": {},
   "outputs": [],
   "source": []
  }
 ],
 "metadata": {
  "kernelspec": {
   "display_name": "Python 2",
   "language": "python",
   "name": "python2"
  },
  "language_info": {
   "codemirror_mode": {
    "name": "ipython",
    "version": 2
   },
   "file_extension": ".py",
   "mimetype": "text/x-python",
   "name": "python",
   "nbconvert_exporter": "python",
   "pygments_lexer": "ipython2",
   "version": "2.7.12"
  }
 },
 "nbformat": 4,
 "nbformat_minor": 2
}

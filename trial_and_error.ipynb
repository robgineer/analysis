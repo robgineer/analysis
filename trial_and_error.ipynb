{
 "cells": [
  {
   "cell_type": "markdown",
   "metadata": {},
   "source": [
    "# Norm\n",
    "\n",
    "a Norm is a mapping from a vector space $X$ into $\\mathbb{R}^n$ with the following characteristics:\n",
    "\n",
    "$\\forall \\alpha \\in X$:\n",
    "\n",
    "\\begin{equation}\n",
    "\\|x\\| \\geqslant 0,   (\\|x\\| = 0 \\Leftrightarrow x = 0 )\n",
    "\\end{equation}\n",
    "\n",
    "\\begin{equation}\n",
    "\\|\\alpha x\\| = |\\alpha| \\|x\\|, \\forall \\alpha \\in \\mathbb{R}\n",
    "\\end{equation}\n",
    "\n",
    "\\begin{equation}\n",
    "\\| y + x\\| \\leqslant \\| y\\| + \\|x\\|\n",
    "\\end{equation}\n",
    "\n",
    "# p-Norm\n",
    "\n",
    "p-Norm for a vector $x \\in \\Re^n$ is defined as \n",
    "\\begin{equation}\n",
    "\\|x\\|_{p} := (\\sum_{k=1}^{n} | x_{k} |^p)^{\\frac{1}{p}}, p \\in [1, \\infty)\n",
    "\\end{equation}\n",
    "\n",
    "What happens if $p$ is set to $<1$?"
   ]
  },
  {
   "cell_type": "code",
   "execution_count": 25,
   "metadata": {},
   "outputs": [],
   "source": [
    "### Define basic neccessary vector operations\n",
    "\n",
    "def calc_abs_inner_sum(x):\n",
    "    vector_sum = 0\n",
    "    for i in range(len(x)):\n",
    "        vector_sum = vector_sum + x[i]\n",
    "    return abs(vector_sum)\n",
    "\n",
    "def calc_exp(x,exp):\n",
    "    vector_pow = []\n",
    "    for item in x:\n",
    "        vector_pow.append(abs(item)**(float(exp)))\n",
    "    return vector_pow\n",
    "\n",
    "def isGreaterOrEqual(a, b):\n",
    "    return a >= b\n",
    "\n",
    "def isSmallerOrEqual(a, b):\n",
    "    return a <= b\n",
    "\n",
    "def calc_abs_element_wise_sum(x,y):\n",
    "    if len(x) != len(y):\n",
    "        print(\"ERROR: no. of vector elements differ\")\n",
    "        return 0\n",
    "    element_wise_sum = []\n",
    "    for i in range(len(x)):\n",
    "        element_wise_sum.append(abs(x[i] + y[i]))\n",
    "    return element_wise_sum\n",
    "\n",
    "def calc_scalar_mul(x, alpha):\n",
    "    x_scaled = []\n",
    "    for item in x:\n",
    "        x_scaled.append(alpha*item)\n",
    "    return x_scaled\n",
    "\n",
    "def calc_sub(x,y):\n",
    "    if len(x) != len(y):\n",
    "        print(\"ERROR ABS SUB: no. of vector elements differ\")\n",
    "        return 0\n",
    "    dist = []\n",
    "    for i in range(len(x)):\n",
    "        dist.append((x[i] - y[i]))\n",
    "    return dist\n",
    "\n",
    "### END of basic vector operations\n",
    "\n",
    "m\n"
   ]
  },
  {
   "cell_type": "code",
   "execution_count": null,
   "metadata": {},
   "outputs": [],
   "source": [
    "### p-Norm implementation #####\n",
    "\n",
    "def calc_pNorm(x, p):\n",
    "    p_normed = 0\n",
    "    if p == float(1):\n",
    "        p_normed = calc_abs_inner_sum(x)\n",
    "    else:\n",
    "        x_exponential = calc_exp(x,p)\n",
    "        p_normed = calc_abs_inner_sum(x_exponential)\n",
    "    return p_normed\n"
   ]
  },
  {
   "cell_type": "code",
   "execution_count": 27,
   "metadata": {},
   "outputs": [
    {
     "name": "stdout",
     "output_type": "stream",
     "text": [
      "2.24573093962\n",
      "1.23114441334\n",
      "2.21481404404\n",
      "2.26800466139\n",
      "2.29074211712\n",
      "2.29739670999\n",
      "2.29074211712\n",
      "2.26800466139\n",
      "2.21481404404\n",
      "1.23114441334\n",
      "2.24573093962\n"
     ]
    }
   ],
   "source": [
    "def calc_p_norm_dist(x,y,p):\n",
    "    temp = calc_sub(x,y)\n",
    "    return calc_pNorm(temp,p)\n",
    "\n",
    "container = [[10,0],[9,1], [8,2], [7,3], [6,4], [5,5], [4,6], [3,7], [2,8], [1,9], [0,10]]\n",
    "a = [1,1]\n",
    "p = 0.1\n",
    "\n",
    "for x in container:\n",
    "    print(calc_p_norm_dist(x,a,p))"
   ]
  },
  {
   "cell_type": "code",
   "execution_count": null,
   "metadata": {},
   "outputs": [],
   "source": [
    "def check_characteristics(x,y,p):\n",
    "    print(\"#### Input ####\")\n",
    "    print(\"x = \" + str(x))\n",
    "    print(\"y = \" + str(y))\n",
    "    print(\"p = \" + str(p))\n",
    "\n",
    "    x_p_normed = calc_pNorm(x, p)\n",
    "    y_p_normed = calc_pNorm(x, p)\n",
    "    \n",
    "    print(\"#### x p-normed >= 0 ? ####\")\n",
    "    print(isGreaterOrEqual(x_p_normed, 0))\n",
    "    \n",
    "    alpha = 100\n",
    "    x_scaled = calc_scalar_mul(x, alpha)\n",
    "    x_scaled_p_normed = calc_pNorm(x_scaled, p)\n",
    "    x_p_normed_scaled = abs(alpha) * x_p_normed\n",
    "    print(\"#### check x scaled by \" + str(alpha) + \" ####\")\n",
    "    print(\"p-normed(alpha * x):\" + str(x_scaled_p_normed))\n",
    "    print(\"abs(alpha) * p-normed(x):\" + str(x_p_normed_scaled))\n",
    "    print(\"#### p-normed(alpha * x) == abs(alpha) * p-normed(x)? ####\")\n",
    "    print(x_scaled_p_normed == x_p_normed_scaled)\n",
    "    x_y_sum = calc_abs_element_wise_sum(x,y)\n",
    "    x_y_sum_p_normed = calc_pNorm(x_y_sum, p)\n",
    "    x_y_p_normed_sum = x_p_normed + y_p_normed\n",
    "    \n",
    "    print(\"#### Add p-normed ####\")   \n",
    "    print(\"x p-normed :\" + str(x_p_normed))\n",
    "    print(\"y p-normed :\" + str(y_p_normed))\n",
    "    print(\"p-normed(x + y) :\" + str(x_y_sum_p_normed))\n",
    "    print(\"p_normed(x) + p_normed(y) :\" + str(x_y_p_normed_sum))\n",
    "    print(\"#### p-normed(x + y) <= p_normed(x) + p_normed(y) ? ####\")\n",
    "    print(x_y_sum_p_normed)\n",
    "    print(x_y_p_normed_sum)\n",
    "    print(x_y_sum_p_normed <= x_y_p_normed_sum)\n",
    "    \n",
    "    return x_y_sum_p_normed, x_y_p_normed_su"
   ]
  },
  {
   "cell_type": "code",
   "execution_count": null,
   "metadata": {},
   "outputs": [],
   "source": [
    "check_characteristics([1,1],[1,1],0.1)"
   ]
  }
 ],
 "metadata": {
  "kernelspec": {
   "display_name": "Python 2",
   "language": "python",
   "name": "python2"
  },
  "language_info": {
   "codemirror_mode": {
    "name": "ipython",
    "version": 2
   },
   "file_extension": ".py",
   "mimetype": "text/x-python",
   "name": "python",
   "nbconvert_exporter": "python",
   "pygments_lexer": "ipython2",
   "version": "2.7.12"
  }
 },
 "nbformat": 4,
 "nbformat_minor": 2
}
